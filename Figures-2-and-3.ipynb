{
 "cells": [
  {
   "cell_type": "markdown",
   "id": "75d1001d-4a10-4225-ba88-337fc911feaa",
   "metadata": {},
   "source": [
    "# Figure 2 & Figure 2 Supplementary Material & Figure 3"
   ]
  },
  {
   "cell_type": "code",
   "execution_count": null,
   "id": "a255387e-9d51-4b5a-8e07-9d0de5a0d862",
   "metadata": {},
   "outputs": [],
   "source": [
    "import numpy as np\n",
    "import matplotlib.pyplot as plt\n",
    "from scipy.signal import square\n",
    "from scipy.stats import ks_2samp\n",
    "from matplotlib.backends.backend_pdf import PdfPages"
   ]
  },
  {
   "cell_type": "markdown",
   "id": "a66a346c-1918-45ac-95ae-ec7729fd59f7",
   "metadata": {},
   "source": [
    "## Define three node network"
   ]
  },
  {
   "cell_type": "code",
   "execution_count": null,
   "id": "8285789c-10bd-4ae1-b1ac-5f53b4c2a8c9",
   "metadata": {},
   "outputs": [],
   "source": [
    "def three_node_network(f):\n",
    "    # Define model parameters\n",
    "    T = 100000                  # Total number of time steps.\n",
    "    dt= 0.001                   # Sampling interval (e.g., 1 ms)\n",
    "    t = np.arange(0,T)*dt       # Time axis\n",
    "    \n",
    "    K = 100                     # For K repeats, compute the target readout for:\n",
    "    readout_AT = np.zeros(K)    #... Input A   to Target,\n",
    "    readout_BT = np.zeros(K)    #... Input B   to Target,\n",
    "    readout_ABT= np.zeros(K)    #... Input A&B to Target.\n",
    "    for k in np.arange(K):\n",
    "        phi0    = 2*np.pi*np.random.rand()\n",
    "        input_A = (square(2*np.pi*f[\"f_IA\"]*t + 0.2*np.random.randn() + phi0, 0.1)+1)/2\n",
    "        input_B = (square(2*np.pi*f[\"f_IB\"]*t + 0.2*np.random.randn() + phi0, 0.1)+1)/2\n",
    "        target  =  np.sin(2*np.pi*f[\"f_T\"] *t + 0.2*np.random.randn() + phi0)\n",
    "        \n",
    "        readout_AT[k] = np.abs(np.sum(input_A * target))          / T\n",
    "        readout_BT[k] = np.abs(np.sum(input_B * target))          / T\n",
    "        readout_ABT[k]= np.abs(np.sum(input_A * input_B * target))/ T\n",
    "    \n",
    "    # Save the readout results.\n",
    "    readout = dict.fromkeys([\"AT\",\"BT\",\"ABT\"])\n",
    "    readout[\"AT\"] =readout_AT\n",
    "    readout[\"BT\"] =readout_BT\n",
    "    readout[\"ABT\"]=readout_ABT\n",
    "    # ... and save an example trace.\n",
    "    ex     = dict.fromkeys([\"A\",\"B\",\"T\"])\n",
    "    ex[\"A\"]       =input_A\n",
    "    ex[\"B\"]       =input_B\n",
    "    ex[\"T\"]       =target\n",
    "    ex[\"t\"]       =t\n",
    "    \n",
    "    return readout,ex"
   ]
  },
  {
   "cell_type": "markdown",
   "id": "bf9ce57e-f5eb-4808-ba6a-2cd3d3e36ad8",
   "metadata": {},
   "source": [
    "# Figure 2"
   ]
  },
  {
   "cell_type": "code",
   "execution_count": null,
   "id": "7b5e9102-bf56-4d44-b01a-20c25839951e",
   "metadata": {},
   "outputs": [],
   "source": [
    "fig = plt.figure(figsize=(8, 8), dpi=80)\n",
    "\n",
    "# (1,2,1) and (1,2,2)\n",
    "f = {\"f_IA\":1, \"f_IB\":2, \"f_T\" :1};\n",
    "readout_ABA,ex=three_node_network(f)\n",
    "f = {\"f_IA\":1, \"f_IB\":2, \"f_T\" :2};\n",
    "readout_ABB,ex=three_node_network(f)\n",
    "plt.subplot(323); plt.boxplot([readout_ABA[\"BT\"],readout_ABB[\"BT\"]]); plt.ylim([-0.01,0.1]); plt.xticks([1,2],[r\"$2 \\rightarrow 1$\", r\"$2 \\rightarrow 2$\"]); plt.ylabel(\"Readout at target\")\n",
    "plt.subplot(325); plt.boxplot([readout_ABA[\"AT\"],readout_ABB[\"AT\"]]); plt.ylim([-0.01,0.1]); plt.xticks([1,2],[r\"$1 \\rightarrow 1$\", r\"$1 \\rightarrow 2$\"]); plt.ylabel(\"Readout at target\")\n",
    "\n",
    "# (1,phi,1) and (1,phi,phi)\n",
    "golden = (1+5**0.5)/2\n",
    "f = {\"f_IA\":1, \"f_IB\":golden, \"f_T\":1};\n",
    "readout_ABA,ex=three_node_network(f)\n",
    "f = {\"f_IA\":1, \"f_IB\":golden, \"f_T\":golden};\n",
    "readout_ABB,ex=three_node_network(f)\n",
    "plt.subplot(324); plt.boxplot([readout_ABA[\"BT\"],readout_ABB[\"BT\"]]); plt.ylim([-0.01,0.1]); plt.xticks([1,2],[r\"$\\phi \\rightarrow 1$\", r\"$\\phi \\rightarrow \\phi$\"])\n",
    "plt.subplot(326); plt.boxplot([readout_ABA[\"AT\"],readout_ABB[\"AT\"]]); plt.ylim([-0.01,0.1]); plt.xticks([1,2],[r\"$1 \\rightarrow 1$\",     r\"$1 \\rightarrow \\phi$\"]);\n",
    "\n",
    "# include example trace\n",
    "plt.subplot(311);\n",
    "plt.plot(ex[\"t\"],ex[\"A\"]+2.2,'r',         label=\"Input A\");  # Input A, f=1\n",
    "plt.plot(ex[\"t\"],ex[\"B\"]+1.1,'xkcd:gold', label=\"Input B\");  # Input B, f=Golden ratio\n",
    "plt.plot(ex[\"t\"],ex[\"T\"],    'k',         label=\"Target\");   # Target,  f=Golden ratio\n",
    "plt.xlim([20,25]); plt.axis(\"off\"); plt.legend();\n",
    "fig.savefig(\"Figure-2.pdf\", bbox_inches='tight')\n"
   ]
  },
  {
   "cell_type": "markdown",
   "id": "6f193be6-dc0d-4387-bc89-2d93e0f6f413",
   "metadata": {},
   "source": [
    "## Figure 2 Supplementary Material"
   ]
  },
  {
   "cell_type": "code",
   "execution_count": null,
   "id": "f559051c-0879-4b51-9f17-5f60a9a1c882",
   "metadata": {},
   "outputs": [],
   "source": [
    "fig = plt.figure(figsize=(8, 6), dpi=80)\n",
    "\n",
    "ratio = np.exp(1)\n",
    "f = {\"f_IA\":1, \"f_IB\":ratio, \"f_T\":1};      readout_ABA,ex=three_node_network(f)\n",
    "f = {\"f_IA\":1, \"f_IB\":ratio, \"f_T\":ratio};  readout_ABB,ex=three_node_network(f)\n",
    "plt.subplot(222); plt.boxplot([readout_ABA[\"BT\"],readout_ABB[\"BT\"]]); plt.ylim([-0.01,0.1]); plt.xticks([1,2],[r\"$e \\rightarrow 1$\", r\"$e \\rightarrow e$\"]); plt.ylabel(\"Readout at target\")\n",
    "plt.subplot(224); plt.boxplot([readout_ABA[\"AT\"],readout_ABB[\"AT\"]]); plt.ylim([-0.01,0.1]); plt.xticks([1,2],[r\"$1 \\rightarrow 1$\", r\"$1 \\rightarrow e$\"]); plt.ylabel(\"Readout at target\");\n",
    "fig.savefig(\"Figure-2-Supp-Material.pdf\", bbox_inches='tight')\n"
   ]
  },
  {
   "cell_type": "markdown",
   "id": "ccefde25-933c-4f84-9bf6-250035cbe90c",
   "metadata": {},
   "source": [
    "# Figure 3"
   ]
  },
  {
   "cell_type": "code",
   "execution_count": null,
   "id": "1866e78b-6b85-4aad-a1a8-0be541947684",
   "metadata": {},
   "outputs": [],
   "source": [
    "fig = plt.figure(figsize=(10, 3), dpi=80)\n",
    "\n",
    "# Golden ratio (1,phi,phi^2)\n",
    "ratio = (1+5**0.5)/2\n",
    "f = {\"f_IA\":1, \"f_IB\":ratio, \"f_T\":1};        readout_1,ex=three_node_network(f)\n",
    "f = {\"f_IA\":1, \"f_IB\":ratio, \"f_T\":ratio};    readout_2,ex=three_node_network(f)\n",
    "f = {\"f_IA\":1, \"f_IB\":ratio, \"f_T\":ratio**2}; readout_3,ex=three_node_network(f)\n",
    "\n",
    "plt.subplot(121); plt.boxplot([readout_1[\"ABT\"],readout_2[\"ABT\"],readout_3[\"ABT\"]]); plt.ylim([-0.001,0.02]);\n",
    "plt.xticks([1,2,3],[r\"$(1,\\phi) \\rightarrow 1$\", r\"$(1,\\phi) \\rightarrow \\phi$\", r\"$(1,\\phi) \\rightarrow \\phi^2$\"]); plt.ylabel(\"Readout at target\")\n",
    "\n",
    "ks13_golden = ks_2samp(readout_1[\"ABT\"], readout_3[\"ABT\"])\n",
    "ks23_golden = ks_2samp(readout_2[\"ABT\"], readout_3[\"ABT\"])\n",
    "print(\"Golden: Target=1 vs Target=\\phi^2\", ks13_golden)\n",
    "print(\"Golden: Target=\\phi vs Target=\\phi^2\", ks23_golden)\n",
    "\n",
    "# Integer ratio (1,2,3)\n",
    "f = {\"f_IA\":1, \"f_IB\":2, \"f_T\":1};  readout_1,ex=three_node_network(f)\n",
    "f = {\"f_IA\":1, \"f_IB\":2, \"f_T\":2};  readout_2,ex=three_node_network(f)\n",
    "f = {\"f_IA\":1, \"f_IB\":2, \"f_T\":3};  readout_3,ex=three_node_network(f)\n",
    "plt.subplot(122); plt.boxplot([readout_1[\"ABT\"],readout_2[\"ABT\"],readout_3[\"ABT\"]])\n",
    "plt.ylim([-0.001,0.02]); plt.xticks([1,2,3],[r\"$(1,2) \\rightarrow 1$\", r\"$(1,2) \\rightarrow 2$\", r\"$(1,2) \\rightarrow 3$\"])\n",
    "\n",
    "ks13_integer = ks_2samp(readout_1[\"ABT\"], readout_3[\"ABT\"])\n",
    "ks23_integer = ks_2samp(readout_2[\"ABT\"], readout_3[\"ABT\"])\n",
    "print(\"Integer: Target=1 vs Target=3\", ks13_integer)\n",
    "print(\"Integer: Target=2 vs Target=3\", ks23_integer)\n",
    "\n",
    "fig.savefig(\"Figure-3.pdf\", bbox_inches='tight')\n"
   ]
  },
  {
   "cell_type": "markdown",
   "id": "dfedcec5-7071-4de8-8a02-c483092b838a",
   "metadata": {},
   "source": [
    "## Figure 3 Supplementary Material"
   ]
  },
  {
   "cell_type": "code",
   "execution_count": null,
   "id": "4ca52ca0-be4a-49ec-a2fd-2f18e3b3b2c0",
   "metadata": {},
   "outputs": [],
   "source": [
    "fig = plt.figure(figsize=(10, 3), dpi=80)\n",
    "\n",
    "# Exponential ratio (1,phi,phi^2)\n",
    "ratio = np.exp(1)\n",
    "f = {\"f_IA\":1, \"f_IB\":ratio, \"f_T\":1};        readout_1,ex=three_node_network(f)\n",
    "f = {\"f_IA\":1, \"f_IB\":ratio, \"f_T\":ratio};    readout_2,ex=three_node_network(f)\n",
    "f = {\"f_IA\":1, \"f_IB\":ratio, \"f_T\":1+ratio};  readout_3,ex=three_node_network(f)\n",
    "plt.subplot(121); plt.boxplot([readout_1[\"ABT\"],readout_2[\"ABT\"],readout_3[\"ABT\"]])\n",
    "plt.ylim([-0.001,0.02]); plt.xticks([1,2,3],[r\"$(1,e) \\rightarrow 1$\", r\"$(1,e) \\rightarrow e$\", r\"$(1,e) \\rightarrow 1+e$\"]); plt.ylabel(\"Readout at target\");\n",
    "fig.savefig(\"Figure-3-Supp-Material.pdf\", bbox_inches='tight')\n",
    "\n",
    "ks13_exp = ks_2samp(readout_1[\"ABT\"], readout_3[\"ABT\"])\n",
    "ks23_exp = ks_2samp(readout_2[\"ABT\"], readout_3[\"ABT\"])\n",
    "print(\"Exp: Target=1 vs Target=e^2\", ks13_exp)\n",
    "print(\"Exp: Target=e vs Target=e^2\", ks23_exp)\n"
   ]
  },
  {
   "cell_type": "code",
   "execution_count": null,
   "id": "090078de-9053-4bca-bc03-a25d2341a2cd",
   "metadata": {},
   "outputs": [],
   "source": []
  }
 ],
 "metadata": {
  "kernelspec": {
   "display_name": "Python 3",
   "language": "python",
   "name": "python3"
  },
  "language_info": {
   "codemirror_mode": {
    "name": "ipython",
    "version": 3
   },
   "file_extension": ".py",
   "mimetype": "text/x-python",
   "name": "python",
   "nbconvert_exporter": "python",
   "pygments_lexer": "ipython3",
   "version": "3.8.8"
  }
 },
 "nbformat": 4,
 "nbformat_minor": 5
}
