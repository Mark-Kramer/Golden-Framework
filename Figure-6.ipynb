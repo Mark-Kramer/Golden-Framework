{
 "cells": [
  {
   "cell_type": "markdown",
   "id": "17fdbc1c-4818-4baf-b3db-493caf992441",
   "metadata": {},
   "source": [
    "# Figure 6\n",
    "\n",
    "Compute the integral of three cosine functions with frequencies `{1, c, c^2}`."
   ]
  },
  {
   "cell_type": "code",
   "execution_count": null,
   "id": "ce5b7b40-e1fd-45c9-900b-53d789d83cde",
   "metadata": {},
   "outputs": [],
   "source": [
    "import numpy as np\n",
    "import matplotlib.pyplot as plt\n",
    "from scipy.integrate import quad\n",
    "\n",
    "# Define the integral.\n",
    "def integrand(t, c):\n",
    "    return np.cos(t)*np.cos(c*t)*np.cos(c**2*t)\n",
    "\n",
    "# Compute the integral for different values of c.\n",
    "c_range = np.arange(1,2.5,0.005)\n",
    "R       = np.zeros(c_range.size)\n",
    "for k in np.arange(0,c_range.size): \n",
    "    I   = quad(integrand, 0, 30, args=(c_range[k]))\n",
    "    R[k]= I[0]\n",
    "\n",
    "# Plot it.\n",
    "f = plt.figure(figsize=(4, 3), dpi=80)\n",
    "plt.plot(c_range, R)\n",
    "plt.xlim([1,2.4])\n",
    "plt.gca().xaxis.grid(True)\n",
    "plt.axvline(x=(1+np.sqrt(5))/2, color='xkcd:gold')\n",
    "plt.xlabel('c')\n",
    "plt.ylabel('Integral');\n",
    "f.savefig(\"./PDFs/Figure-6.pdf\", bbox_inches='tight')"
   ]
  }
 ],
 "metadata": {
  "kernelspec": {
   "display_name": "Python 3",
   "language": "python",
   "name": "python3"
  },
  "language_info": {
   "codemirror_mode": {
    "name": "ipython",
    "version": 3
   },
   "file_extension": ".py",
   "mimetype": "text/x-python",
   "name": "python",
   "nbconvert_exporter": "python",
   "pygments_lexer": "ipython3",
   "version": "3.8.8"
  }
 },
 "nbformat": 4,
 "nbformat_minor": 5
}
