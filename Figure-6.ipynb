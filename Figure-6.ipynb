{
 "cells": [
  {
   "cell_type": "markdown",
   "id": "c280e821-2f17-4c1b-b644-4b2a829304dc",
   "metadata": {},
   "source": [
    "# Figure 6"
   ]
  },
  {
   "cell_type": "code",
   "execution_count": null,
   "id": "3cdf2e14-3604-4f03-a83b-0d62c3fbbe6e",
   "metadata": {},
   "outputs": [],
   "source": [
    "import numpy as np\n",
    "import matplotlib.pyplot as plt"
   ]
  },
  {
   "cell_type": "markdown",
   "id": "c0cc607f-88bb-43cd-b585-ece688ae7576",
   "metadata": {},
   "source": [
    "## For three frequencies `(f0,f1,f2)` determine the resonance order."
   ]
  },
  {
   "cell_type": "code",
   "execution_count": null,
   "id": "d32388cf-e768-42ce-863e-ca6e52e25653",
   "metadata": {},
   "outputs": [],
   "source": [
    "def resonance_order_calculator(f0,f1,f2):\n",
    "    # Define wide range of integers to examine.\n",
    "    x = np.arange(-100,101)\n",
    "    y = np.arange(-100,101)\n",
    "    z = np.arange(-100,101)\n",
    "    good = np.where(x != 0)                             # ignore k=0\n",
    "    x = x[good]; y=y[good]; z=z[good]\n",
    "    \n",
    "    # Organize into 3D grids for efficiency\n",
    "    k0,_,_ = np.meshgrid(x,y,z)\n",
    "    k1 = k0.transpose(2,0,1)\n",
    "    k2 = k0.transpose(1,0,2)\n",
    "    \n",
    "    # Compute sum for all integers.\n",
    "    resonance_search = k0*f0 + k1*f1 + k2*f2;\n",
    "    resonance_search = np.round(resonance_search,10);   # Round near 0 to 0.\n",
    "    mn = np.min(np.abs(resonance_search))               # ... and look for 0.\n",
    "    \n",
    "    if mn == 0:                                         # If you find 0\n",
    "        ind = np.where(resonance_search==mn);           # ... get the resonance order,\n",
    "        resonance_order = np.abs(k0[ind]) + np.abs(k1[ind]) + np.abs(k2[ind]);\n",
    "        imn             = np.argmin(resonance_order[resonance_order > 0])\n",
    "        resonance_order = np.min(   resonance_order[resonance_order > 0]);\n",
    "        ix=ind[0][imn]\n",
    "        iy=ind[1][imn]\n",
    "        iz=ind[2][imn]\n",
    "        K = [k0[ix,iy,iz], k1[ix,iy,iz], k2[ix,iy,iz]]; # ... and get the coefficients.\n",
    "    else:\n",
    "        resonance_order = np.array([]); K = np.array([]);\n",
    "    return resonance_order, K"
   ]
  },
  {
   "cell_type": "markdown",
   "id": "6096ae83-7ac7-4ada-baf0-444f35b76815",
   "metadata": {},
   "source": [
    "## Create resonance order map for target frequency 40 Hz (slow to run)."
   ]
  },
  {
   "cell_type": "code",
   "execution_count": null,
   "id": "ae2e2f1b-4630-475f-a8c2-82bd633a5b43",
   "metadata": {},
   "outputs": [],
   "source": [
    "golden               = (1+np.sqrt(5))/2\n",
    "generating_frequency = 40\n",
    "powers               = np.arange(-6,5)\n",
    "freqs                = generating_frequency*golden**powers\n",
    "\n",
    "print(\"Sequence of golden rhythms:\")\n",
    "[print(\" \"'%.5f' % f0) for f0 in freqs]\n",
    "print()\n",
    "\n",
    "res = np.empty([np.size(freqs),np.size(freqs)])\n",
    "res[:] = np.nan\n",
    "print(\"Compute resonance orders with target frequency \" '%.1f' % generating_frequency)\n",
    "for idx2, f2 in enumerate(freqs):\n",
    "    print(\" \"'%.1f' % f2)\n",
    "    for idx1, f1 in enumerate(freqs):\n",
    "        resonance_order,_ = resonance_order_calculator(generating_frequency,f1,f2)\n",
    "        if resonance_order.size!=0:\n",
    "            res[idx2,idx1]    = resonance_order"
   ]
  },
  {
   "cell_type": "markdown",
   "id": "2fc0bbfb-b1c8-4cec-a64b-2abe02d9f454",
   "metadata": {},
   "source": [
    "## Display the example resonance order map (fast to run)."
   ]
  },
  {
   "cell_type": "code",
   "execution_count": null,
   "id": "fb994775-62d2-4de8-961b-e4d882ed328c",
   "metadata": {},
   "outputs": [],
   "source": [
    "fig = plt.figure(figsize=(5, 5), dpi=80)\n",
    "ax  = fig.add_subplot(1, 1, 1)\n",
    "for idx2, f2 in enumerate(freqs):\n",
    "    for idx1, f1 in enumerate(freqs):\n",
    "        if np.isnan(res[idx1,idx2])==0:\n",
    "            if res[idx1,idx2]==3: color='xkcd:gold'\n",
    "            if res[idx1,idx2]==4: color='xkcd:silver'\n",
    "            if res[idx1,idx2]==5: color='xkcd:bronze'\n",
    "            if res[idx1,idx2] >5: color='white'\n",
    "            ax.scatter(f2,f1,s=4000/res[idx1,idx2]**2,c=color,edgecolor='gray')\n",
    "            plt.text(  f2,f1, '%.0f' % res[idx1,idx2])\n",
    "\n",
    "ax.set_xscale('log'); ax.set_xticks(freqs); ax.set_xticklabels(('%.1f' % f0 for f0 in freqs), rotation=45);\n",
    "ax.set_yscale('log'); ax.set_yticks(freqs); ax.set_yticklabels(('%.1f' % f0 for f0 in freqs));\n",
    "plt.xlabel('Frequency [Hz]'); plt.ylabel('Frequency [Hz]')\n",
    "nice_title = \"%.1f\" % generating_frequency\n",
    "plt.title('Generating frequency '+ nice_title +' Hz');\n",
    "plt.grid(linestyle=':')\n",
    "#fig.savefig(\"./PDFs/Figure-6.pdf\", bbox_inches='tight')"
   ]
  }
 ],
 "metadata": {
  "kernelspec": {
   "display_name": "Python 3",
   "language": "python",
   "name": "python3"
  },
  "language_info": {
   "codemirror_mode": {
    "name": "ipython",
    "version": 3
   },
   "file_extension": ".py",
   "mimetype": "text/x-python",
   "name": "python",
   "nbconvert_exporter": "python",
   "pygments_lexer": "ipython3",
   "version": "3.8.8"
  }
 },
 "nbformat": 4,
 "nbformat_minor": 5
}
