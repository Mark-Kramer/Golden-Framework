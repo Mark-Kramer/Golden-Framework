{
 "cells": [
  {
   "cell_type": "markdown",
   "id": "98b14a52-4e2e-45cd-a988-8b2b17004e4a",
   "metadata": {},
   "source": [
    "# Figure 1\n",
    "\n",
    "## Create the AR(2) models"
   ]
  },
  {
   "cell_type": "code",
   "execution_count": null,
   "id": "08e40598-c98e-4eb9-9705-e2910dd1fcb4",
   "metadata": {},
   "outputs": [],
   "source": [
    "import statsmodels.api as sm\n",
    "import numpy as np\n",
    "import scipy as sp\n",
    "import scipy.io as io\n",
    "import matplotlib.pyplot as plt\n",
    "from matplotlib.backends.backend_pdf import PdfPages\n",
    "\n",
    "# Set AR(2) parameters.\n",
    "ar1   = np.array([1,  0.0, 0.99])     # High frequency\n",
    "ar2   = np.array([1, -1.4, 0.99])     # Low frequency (1:2)\n",
    "arPhi = np.array([1, -1.17, 0.99])    # Low frequency (1:Phi)\n",
    "ar0   = np.array([1, -0.8])           # Background 1/f\n",
    "\n",
    "# Build AR(2) processes.\n",
    "arma_process_1   = sm.tsa.ArmaProcess(ar1,   [1])\n",
    "arma_process_2   = sm.tsa.ArmaProcess(ar2,   [1])\n",
    "arma_process_phi = sm.tsa.ArmaProcess(arPhi, [1])\n",
    "arma_process_0   = sm.tsa.ArmaProcess(ar0,   [1])\n",
    "\n",
    "# Simulate example AR(2) processes.\n",
    "y1   = arma_process_1.generate_sample(250)\n",
    "y2   = arma_process_2.generate_sample(250)\n",
    "yphi = arma_process_phi.generate_sample(250)\n",
    "y0   = arma_process_0.generate_sample(250)\n",
    "\n",
    "# Plot example traces.\n",
    "f = plt.figure(figsize=(7, 5), dpi=80)\n",
    "plt.subplot(411); plt.plot(y1);               plt.title('High Frequency Signal');   plt.axis('off')\n",
    "plt.subplot(412); plt.plot(y2,'g');           plt.title('Low Frequency Signal (1:2)');   plt.axis('off')\n",
    "plt.subplot(413); plt.plot(yphi,'xkcd:gold'); plt.title(r'Low Frequency Signal (1:$\\phi$)'); plt.axis('off')\n",
    "plt.subplot(414); plt.plot(y0,'k');           plt.title('Background 1/f');   plt.axis('off');\n",
    "f.savefig(\"Figure-1A.pdf\", bbox_inches='tight')"
   ]
  },
  {
   "cell_type": "markdown",
   "id": "15e30ec1-0283-4356-a3f0-07d7f985ae6d",
   "metadata": {},
   "source": [
    "## Compute spectra for example traces"
   ]
  },
  {
   "cell_type": "code",
   "execution_count": null,
   "id": "2869bee8-15e7-42cf-9def-e15e79a3e187",
   "metadata": {},
   "outputs": [],
   "source": [
    "# Use the multitaper method.\n",
    "import nitime.algorithms as tsa\n",
    "NW = 3                                   # Define the normalized time-bandwidth product.\n",
    "dt = 1;                                  # Arbitrary sample interval\n",
    "faxis, S1, _   = tsa.multi_taper_psd(y1 - y1.mean(), Fs=1/dt, NW=NW);\n",
    "faxis, S2, _   = tsa.multi_taper_psd(y2 - y2.mean(), Fs=1/dt, NW=NW);\n",
    "faxis, SPhi, _ = tsa.multi_taper_psd(yphi - yphi.mean(), Fs=1/dt, NW=NW);\n",
    "faxis, S0, _   = tsa.multi_taper_psd(y0 - y0.mean(), Fs=1/dt, NW=NW);\n",
    "\n",
    "# Plot the spectra.\n",
    "f = plt.figure(figsize=(7, 5), dpi=80)\n",
    "plt.semilogy(faxis[:100], S1[:100],               label='High Frequency Signal')\n",
    "plt.semilogy(faxis[:100], S2[:100],  'g',         label='Low Frequency Signal (1:2)')\n",
    "plt.semilogy(faxis[:100], SPhi[:100],'xkcd:gold', label=r'Low Frequency Signal (1:$\\phi$)')\n",
    "plt.semilogy(faxis[:100], S0[:100],  'k',         label='Background 1/f')\n",
    "plt.xlabel('Frequency [Hz]')\n",
    "plt.ylabel('Power [dB]')\n",
    "plt.grid()\n",
    "plt.legend(loc='lower left')\n",
    "plt.show()\n",
    "f.savefig(\"Figure-1B.pdf\", bbox_inches='tight')"
   ]
  },
  {
   "cell_type": "markdown",
   "id": "a08c295e-dd68-450a-8ff3-425d7710c1f4",
   "metadata": {},
   "source": [
    "## Define the phase-locking value (PLV)\n",
    "\n",
    "From [Palva JM, Palva S, Kaila K. *Phase synchrony among neuronal oscillations in the human cortex.* J Neurosci. 2005](https://pubmed.ncbi.nlm.nih.gov/15829648/)"
   ]
  },
  {
   "cell_type": "code",
   "execution_count": null,
   "id": "036bbae1-30fe-4005-9a52-3f2700116eb5",
   "metadata": {},
   "outputs": [],
   "source": [
    "def PLV(m, Y1, Y2, win_size):\n",
    "    # m  = frequency ratio\n",
    "    # Y1 = high frequency signal\n",
    "    # Y2 = low frequency signal\n",
    "    # win_size = duration of signal used to evaluate phase locking.\n",
    "    phase_HF = np.transpose(np.angle(sp.signal.hilbert(np.transpose(Y1))))\n",
    "    phase_LF = np.transpose(np.angle(sp.signal.hilbert(np.transpose(Y2))))\n",
    "    # Compute PLV\n",
    "    PLV = np.zeros(np.shape(Y1)[0]-win_size)\n",
    "    for k in np.arange(np.shape(Y1)[0]-win_size):\n",
    "        pL = phase_LF[k:k+win_size]\n",
    "        pH = phase_HF[k:k+win_size]\n",
    "        PLV[k] = 1/win_size * np.abs(np.sum(np.exp(1j*(m*pL-pH))))\n",
    "    # Compute shuffled PLV\n",
    "    PLV_surr = np.empty(200)\n",
    "    for k in np.arange(200):\n",
    "        i0 = np.random.randint(np.shape(Y1)[0]-win_size)\n",
    "        pL = phase_LF[i0:i0+win_size]\n",
    "        i0 = np.random.randint(np.shape(Y1)[0]-win_size)\n",
    "        pH = phase_HF[i0:i0+win_size]\n",
    "        PLV_surr[k] = 1/win_size * np.abs(np.sum(np.exp(1j*(m*pL-pH))))\n",
    "\n",
    "    # Compute the proportion of PLV with p <= 0.01.\n",
    "    proportion_detected = np.sum(PLV > 2.42*np.mean(PLV_surr))/np.shape(Y1)[0]\n",
    "    \n",
    "    return proportion_detected"
   ]
  },
  {
   "cell_type": "markdown",
   "id": "f9a16081-c4b6-4dd3-9e59-5f49d6a91be7",
   "metadata": {},
   "source": [
    "## Perform simulation and compute proportion of significant PLV\n",
    "\n",
    "This is slow, and counts from 0 to `J`-1 (=999)."
   ]
  },
  {
   "cell_type": "code",
   "execution_count": null,
   "id": "88d97832-14f0-416c-8347-9d5889c6dab9",
   "metadata": {},
   "outputs": [],
   "source": [
    "J        = 1000;  # Generate J signals.\n",
    "win_size = 50;    # Window size for simulated AR(2).\n",
    "m        = 1.618;     # Define the PLV frequency ratio.\n",
    "\n",
    "proportion_detected_12   = np.empty(J)\n",
    "proportion_detected_1Phi = np.empty(J)\n",
    "\n",
    "for j in np.arange(J):                             # For each signal, \n",
    "    print(j,end=' ')                               # ...create 100 instances of duration win_size,\n",
    "    Y1  = np.empty([100,win_size])                 # ...for High freq signal,\n",
    "    Y2  = np.empty([100,win_size])                 # ...for Low freq (1:2) signal,\n",
    "    YPhi= np.empty([100,win_size])                 # ...for Low freq (1:Phi) signal.\n",
    "    for k in np.arange(100):                       # For each instance k,\n",
    "        if np.random.rand()>0.9:                   # ...10% of the time,\n",
    "            y1   = arma_process_1.generate_sample(win_size)  # ...y1 is   High freq signal,\n",
    "            y2   = arma_process_2.generate_sample(win_size)  # ...y2 is   Low freq (1:2) signal,\n",
    "            yphi = arma_process_phi.generate_sample(win_size)# ...yphi is Low freq (1:Phi) signal,\n",
    "        else:                                      # ... 90% of the time,\n",
    "            y1   = arma_process_0.generate_sample(win_size)  # ...y1,\n",
    "            y2   = arma_process_0.generate_sample(win_size)  # ...y2,\n",
    "            yphi = arma_process_0.generate_sample(win_size)  # ...and yPhi are all background 1/f.\n",
    "        Y1[k,:]   = y1\n",
    "        Y2[k,:]   = y2\n",
    "        YPhi[k,:] = yphi\n",
    "                                                   # Determine proportion of significant PLV detections.    \n",
    "    proportion_detected_12[j]   = PLV(m, Y1.reshape(100*win_size,1), Y2.reshape(100*win_size,1), win_size)\n",
    "    proportion_detected_1Phi[j] = PLV(m, Y1.reshape(100*win_size,1), YPhi.reshape(100*win_size,1), win_size)"
   ]
  },
  {
   "cell_type": "markdown",
   "id": "29801fcd-c423-4322-884c-8c842cf8a78a",
   "metadata": {},
   "source": [
    "## Display the resulting proportion of significant PLV detections as histograms"
   ]
  },
  {
   "cell_type": "code",
   "execution_count": null,
   "id": "db187063-67bb-4dc0-8846-e8408ead2777",
   "metadata": {},
   "outputs": [],
   "source": [
    "f    = plt.figure(figsize=(7, 5), dpi=80)\n",
    "bins = np.linspace(0,0.15,20)\n",
    "plt.hist(proportion_detected_12,  bins, density=True, rwidth=0.75, align='left', color='g',      label='1:2')\n",
    "plt.hist(proportion_detected_1Phi,bins, density=True, rwidth=0.75, align='mid',color='xkcd:gold', label=r'1:$\\phi$')\n",
    "plt.legend()\n",
    "plt.xlabel('Proportion significant PLV')\n",
    "plt.ylabel('Density');\n",
    "plt.title('PLV with m = '+str(m))\n",
    "f.savefig('Figure-1C-m-'+str(m)+'.pdf', bbox_inches='tight')\n",
    "\n",
    "print(sp.stats.ttest_ind(proportion_detected_1Phi,proportion_detected_12,equal_var=False))"
   ]
  }
 ],
 "metadata": {
  "kernelspec": {
   "display_name": "Python 3",
   "language": "python",
   "name": "python3"
  },
  "language_info": {
   "codemirror_mode": {
    "name": "ipython",
    "version": 3
   },
   "file_extension": ".py",
   "mimetype": "text/x-python",
   "name": "python",
   "nbconvert_exporter": "python",
   "pygments_lexer": "ipython3",
   "version": "3.8.8"
  }
 },
 "nbformat": 4,
 "nbformat_minor": 5
}
