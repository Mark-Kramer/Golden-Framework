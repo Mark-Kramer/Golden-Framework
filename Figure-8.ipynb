{
 "cells": [
  {
   "cell_type": "markdown",
   "id": "28900a70-16d2-47cc-88e4-8d8270190e9c",
   "metadata": {},
   "source": [
    "# Figure 8\n",
    "---"
   ]
  },
  {
   "cell_type": "markdown",
   "id": "76a94016-3ad6-4db5-acfd-ff1ef791a1aa",
   "metadata": {},
   "source": [
    "If you're running this on **Google Colab**, then uncomment and run the next two cells."
   ]
  },
  {
   "cell_type": "code",
   "execution_count": null,
   "id": "8dc1d04c-d97b-4bb2-b0b7-667fc8491b47",
   "metadata": {},
   "outputs": [],
   "source": [
    "# !git clone https://github.com/Mark-Kramer/Golden-Framework.git"
   ]
  },
  {
   "cell_type": "code",
   "execution_count": null,
   "id": "222ad606-d43f-4c44-96ff-2b11af25621b",
   "metadata": {},
   "outputs": [],
   "source": [
    "# import sys\n",
    "# sys.path.insert(0,'/content/Golden-Framework')"
   ]
  },
  {
   "cell_type": "markdown",
   "id": "3bfc4907-a8f6-417c-a5ee-c99eff534c52",
   "metadata": {},
   "source": [
    "---"
   ]
  },
  {
   "cell_type": "markdown",
   "id": "5049c8d0-83e1-478b-a843-e39e39fae3f1",
   "metadata": {},
   "source": [
    "## Load packages"
   ]
  },
  {
   "cell_type": "code",
   "execution_count": null,
   "id": "e1e7c2a7-7b45-4212-985a-d9ab08477717",
   "metadata": {},
   "outputs": [],
   "source": [
    "import numpy as np\n",
    "import matplotlib.pyplot as plt\n",
    "plt.rcParams.update({'font.size': 12})\n",
    "import pandas as pd"
   ]
  },
  {
   "cell_type": "markdown",
   "id": "0151ed3b-7635-42bc-86e8-62a1bcf482ee",
   "metadata": {},
   "source": [
    "## Read in empirical values"
   ]
  },
  {
   "cell_type": "code",
   "execution_count": null,
   "id": "5f2ba8b5-b824-4d98-9787-08cf77b7bb04",
   "metadata": {},
   "outputs": [],
   "source": [
    "data = pd.read_excel(r'empirical_values.xlsx')\n",
    "#### If using Google Colab, then replace the line above with the line below. ####\n",
    "#    data = pd.read_excel(r'/content/Golden-Framework/empirical_values.xlsx')\n",
    "df = pd.DataFrame(data, columns= ['f1', 'f2', 'Citation'])\n",
    "f1 = df['f1']\n",
    "f2 = df['f2']\n",
    "cites = df['Citation']\n",
    "unique_cites = np.unique(df['Citation'])"
   ]
  },
  {
   "cell_type": "markdown",
   "id": "1048f0ba-1408-439b-b9b1-35178769d858",
   "metadata": {},
   "source": [
    "## Figure 8A: Display frequency pairs."
   ]
  },
  {
   "cell_type": "code",
   "execution_count": null,
   "id": "5ec71754-6db7-47c4-95bd-c0c13df86f79",
   "metadata": {},
   "outputs": [],
   "source": [
    "f = plt.figure(figsize=(9, 5), dpi=80)\n",
    "golden = (1+np.sqrt(5))/2\n",
    "freqs  = np.arange(0,200)\n",
    "plt.plot(freqs, freqs*golden, c='xkcd:gold')\n",
    "plt.plot(freqs, freqs*golden**2, c='xkcd:gold')\n",
    "f1_exists = []\n",
    "f2_exists = []\n",
    "for k, txt in enumerate(unique_cites):\n",
    "    i0 = np.where(cites == unique_cites[k])[0]\n",
    "    for j,index in enumerate(i0):\n",
    "        spacer = np.sum( (f1_exists==f1[index]) * (f2_exists==f2[index]) )\n",
    "        plt.plot(f1[index],f2[index],'ok')\n",
    "        if f1[index]<35:\n",
    "            yspacer = -4\n",
    "        else:\n",
    "            yspacer = -1\n",
    "        plt.text(f1[index]+1.5+2*spacer,f2[index]+yspacer,chr(97+k))\n",
    "        f1_exists = np.append(f1_exists, f1[index])\n",
    "        f2_exists = np.append(f2_exists, f2[index])\n",
    "    plt.text(80,120-(k)*8.5, chr(97+k)+': '+unique_cites[k])\n",
    "plt.gca().grid(True)\n",
    "plt.xlim([0,120])\n",
    "plt.ylim([0,175])\n",
    "plt.xlabel('Frequency [Hz]')\n",
    "plt.ylabel('Frequency [Hz]');\n",
    "#f.savefig(\"./PDFs/Figure-8A.pdf\", bbox_inches='tight')"
   ]
  },
  {
   "cell_type": "markdown",
   "id": "f191b27b-a1bd-4efd-b1f3-42d8ebb87053",
   "metadata": {},
   "source": [
    "## Figure 8B: Histogram of frequency ratios."
   ]
  },
  {
   "cell_type": "code",
   "execution_count": null,
   "id": "e95e74cc-17a3-4c94-8e24-40436fa6d9b8",
   "metadata": {},
   "outputs": [],
   "source": [
    "f = plt.figure(figsize=(6, 5), dpi=80)\n",
    "plt.hist(f2/f1, facecolor='gray')\n",
    "plt.axvline(golden, c='xkcd:gold', linewidth=4)\n",
    "plt.axvline(golden**2, c='xkcd:gold', linewidth=4)\n",
    "plt.xlabel('Frequency ratio')\n",
    "plt.ylabel('Counts');\n",
    "#f.savefig(\"./PDFs/Figure-8B.pdf\", bbox_inches='tight')"
   ]
  }
 ],
 "metadata": {
  "kernelspec": {
   "display_name": "Python 3",
   "language": "python",
   "name": "python3"
  },
  "language_info": {
   "codemirror_mode": {
    "name": "ipython",
    "version": 3
   },
   "file_extension": ".py",
   "mimetype": "text/x-python",
   "name": "python",
   "nbconvert_exporter": "python",
   "pygments_lexer": "ipython3",
   "version": "3.8.8"
  }
 },
 "nbformat": 4,
 "nbformat_minor": 5
}
