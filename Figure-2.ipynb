{
 "cells": [
  {
   "cell_type": "markdown",
   "id": "98b14a52-4e2e-45cd-a988-8b2b17004e4a",
   "metadata": {},
   "source": [
    "# Figure 2"
   ]
  },
  {
   "cell_type": "markdown",
   "id": "43c96ae7-1657-4dcd-9703-a353cbbeb8d4",
   "metadata": {},
   "source": [
    "---"
   ]
  },
  {
   "cell_type": "markdown",
   "id": "e6c0810f-9f1e-41c3-84a4-8f79eaaa1709",
   "metadata": {},
   "source": [
    "If you're running this on **Google Colab**, then uncomment and run the next two cells."
   ]
  },
  {
   "cell_type": "code",
   "execution_count": null,
   "id": "61d2c254-f5ee-44a5-8497-5f0f42caffac",
   "metadata": {},
   "outputs": [],
   "source": [
    "# !git clone https://github.com/Mark-Kramer/Golden-Framework.git"
   ]
  },
  {
   "cell_type": "code",
   "execution_count": null,
   "id": "8a94f2cc-9e09-4678-a3bc-760337a25cd1",
   "metadata": {},
   "outputs": [],
   "source": [
    "# import sys\n",
    "# sys.path.insert(0,'/content/Golden-Framework')"
   ]
  },
  {
   "cell_type": "markdown",
   "id": "63fb174f-45a1-4328-9e4b-e23634d26375",
   "metadata": {},
   "source": [
    "---"
   ]
  },
  {
   "cell_type": "markdown",
   "id": "3a874dd6-6fcf-46bf-8166-cc313d760c9b",
   "metadata": {},
   "source": [
    "## Load packages"
   ]
  },
  {
   "cell_type": "code",
   "execution_count": null,
   "id": "cbe0b839-03fb-492c-b150-b2f167bf27eb",
   "metadata": {},
   "outputs": [],
   "source": [
    "import scipy.io as io\n",
    "import matplotlib.pyplot as plt\n",
    "from matplotlib.backends.backend_pdf import PdfPages"
   ]
  },
  {
   "cell_type": "markdown",
   "id": "73292613-8edb-4ab4-921d-139fef77d231",
   "metadata": {},
   "source": [
    "## Load functions for simulations and plotting"
   ]
  },
  {
   "cell_type": "code",
   "execution_count": null,
   "id": "85b528db-f366-47cd-9443-0453c39f0070",
   "metadata": {},
   "outputs": [],
   "source": [
    "from Golden_Ratio_functions import *"
   ]
  },
  {
   "cell_type": "markdown",
   "id": "229fb3d8-c492-4b7c-a18b-93fa155ca414",
   "metadata": {},
   "source": [
    "## Figure 2B: Target responses without sinusoidal gain."
   ]
  },
  {
   "cell_type": "code",
   "execution_count": null,
   "id": "1125a7d0-66b1-4337-8857-2e35724237fe",
   "metadata": {},
   "outputs": [],
   "source": [
    "ratio   = (1+np.sqrt(5))/2\n",
    "f_k     = ratio**np.arange(2,9+1)\n",
    "network = {\"f_k\":f_k, \"k_perturbed\":4}\n",
    "gain    = {\"f_S\":0, \"g_S\":0}\n",
    "\n",
    "x,t = run_damped_coupled_harmonic_oscillators(network, gain)\n",
    "\n",
    "f = plt.figure(figsize=(2, 3), dpi=80)\n",
    "plot_model_traces(t,x,network,gain)\n",
    "#f.savefig(\"./PDFs/Figure-2B.pdf\", bbox_inches='tight')"
   ]
  },
  {
   "cell_type": "markdown",
   "id": "0aeac1a9-c849-478d-8dbd-e9570351b648",
   "metadata": {},
   "source": [
    "## Figure 2C: Target responses with sinusoidal gain at frequency $\\phi^7$ Hz."
   ]
  },
  {
   "cell_type": "code",
   "execution_count": null,
   "id": "a507d350-0523-4714-997d-533c2b046cdd",
   "metadata": {},
   "outputs": [],
   "source": [
    "ratio   = (1+np.sqrt(5))/2\n",
    "f_k     = ratio**np.arange(2,9+1)\n",
    "network = {\"f_k\":f_k, \"k_perturbed\":4}\n",
    "gain    = {\"f_S\":ratio**7, \"g_S\":50}\n",
    "\n",
    "x,t = run_damped_coupled_harmonic_oscillators(network, gain)\n",
    "\n",
    "f = plt.figure(figsize=(2, 3), dpi=80)\n",
    "plot_model_traces(t,x,network,gain)\n",
    "#f.savefig(\"./PDFs/Figure-2C.pdf\", bbox_inches='tight')"
   ]
  },
  {
   "cell_type": "markdown",
   "id": "eecc61ab-8bc1-4aab-bae9-bb2ae0128cfd",
   "metadata": {},
   "source": [
    "### Aside: estimate frequency of response at each node.\n",
    "Note: counting starts at node 0, and we expect responses at nodes 3, 4 (driven node 17.9 Hz), and 6."
   ]
  },
  {
   "cell_type": "code",
   "execution_count": null,
   "id": "46ba89f9-b48f-4360-a1a5-8ea617370e5c",
   "metadata": {},
   "outputs": [],
   "source": [
    "f = plt.figure(figsize=(20, 3), dpi=80)\n",
    "plt.subplot(1,3,1); estimate_oscillator_frequency(x,t,f_k,3)  #Node 3, expect 11 Hz\n",
    "plt.subplot(1,3,2); estimate_oscillator_frequency(x,t,f_k,4)  #Node 4, expect 17.9 Hz\n",
    "plt.subplot(1,3,3); estimate_oscillator_frequency(x,t,f_k,6)  #Node 6, expect 47.0 Hz"
   ]
  },
  {
   "cell_type": "markdown",
   "id": "15e30ec1-0283-4356-a3f0-07d7f985ae6d",
   "metadata": {},
   "source": [
    "## Figure 2D (Part 1): Compute resonant response versus sinusoidal gain frequency, and save it.\n",
    "This part is slow, and iterates over a range of `f_S`. Results saved in a `.mat` file, available on GitHub."
   ]
  },
  {
   "cell_type": "code",
   "execution_count": null,
   "id": "9f3fc9c8-780e-43e4-b46c-5f8c71b4d21a",
   "metadata": {},
   "outputs": [],
   "source": [
    "ratio   = (1+np.sqrt(5))/2;\n",
    "f_k     = ratio**np.arange(2,9+1)\n",
    "network = {\"f_k\":f_k, \"k_perturbed\":4}\n",
    "\n",
    "f_S     = np.arange(1,100,0.1)\n",
    "g_S     = 50\n",
    "A       = np.zeros([16,f_S.size])\n",
    "\n",
    "for i in np.arange(f_S.size):\n",
    "\n",
    "    print([\"%.1f\"% f_S[i]][0],end=' ')\n",
    "    \n",
    "    gain    = {\"f_S\":f_S[i], \"g_S\":g_S}\n",
    "    x,t = run_damped_coupled_harmonic_oscillators(network, gain)\n",
    "    \n",
    "    amp   = np.abs(hilbert(x));\n",
    "    i0    = np.where( (t>=0) & (t<=1.5) );\n",
    "    A[:,i]= np.mean(amp[:,i0[0]],1)\n",
    "\n",
    "res = {\"A\":A, \"f_S\":f_S, \"g_S\":g_S, \"f_k\":f_k, \"network\":network, \"gain\":gain}\n",
    "io.savemat('Figure-2D.mat', res)"
   ]
  },
  {
   "cell_type": "markdown",
   "id": "aa482f6b-a781-4395-ad75-8444aedf2964",
   "metadata": {},
   "source": [
    "## Figure 2D (Part 2): Load resonant response versus sinusoidal gain frequency, and plot it.\n",
    "\n",
    "This part is fast."
   ]
  },
  {
   "cell_type": "code",
   "execution_count": null,
   "id": "85710591-15b5-4d87-a3de-777428b45dbc",
   "metadata": {},
   "outputs": [],
   "source": [
    "res = io.loadmat(\"Figure-2D.mat\");\n",
    "# Note: if you're running on Google Colab, then load the .mat file like this:\n",
    "# res = io.loadmat(\"/content/Golden-Framework/Figure-2D.mat\");\n",
    "f   = plt.figure(figsize=(5, 3), dpi=80)\n",
    "plot_gain_traces(res)\n",
    "#f.savefig(\"./PDFs/Figure-2D.pdf\", bbox_inches='tight')"
   ]
  },
  {
   "cell_type": "markdown",
   "id": "4a8458fe-d895-4ccc-aeab-4d3354ae8630",
   "metadata": {},
   "source": [
    "## Figure 2E (Part 1): Compute impact of noise on evoked response, and save it.\n",
    "This part is slow, and iterates over a range of `noise` for `replicates` times. Results saved in a `.mat` file, available on GitHub."
   ]
  },
  {
   "cell_type": "code",
   "execution_count": null,
   "id": "f8febd92-ab20-4d5d-94ad-ce52e41b0a56",
   "metadata": {},
   "outputs": [],
   "source": [
    "# Compute average evoked response without noise.\n",
    "ratio     = (1+np.sqrt(5))/2\n",
    "f_k       = ratio**np.arange(2,9+1)\n",
    "network   = {\"f_k\":f_k, \"k_perturbed\":4}\n",
    "gain      = {\"f_S\":ratio**7, \"g_S\":50}\n",
    "noise     = np.zeros(16)\n",
    "perturbation = 1\n",
    "x,t       = damped_coupled_harmonic_oscillators_with_noise(network, gain, noise, perturbation)\n",
    "i0        = np.where( (t>=0) & (t<=1.5) )\n",
    "sd        = np.std(x[:,i0[0]],1)\n",
    "evoked_sd = np.mean(sd[[0,2,4,6,  10,12,14]])\n",
    "print(\"Computed average evoked response ... \\n\")\n",
    "\n",
    "#... and use it \n",
    "noise   = np.array([0,0.5,1.0,1.5,2])\n",
    "replicates = 100;\n",
    "A_yes_perturb = np.zeros([16,noise.size,replicates])\n",
    "A_no_perturb  = np.zeros([16,noise.size,replicates])\n",
    "\n",
    "for j in np.arange(noise.size):\n",
    "    \n",
    "    print([\"%.1f\"% noise[j]][0],end=': ')\n",
    "    \n",
    "    for k in np.arange(replicates):\n",
    "    \n",
    "        print([\"%.0f\"% k][0],end=' ')\n",
    "        \n",
    "        perturbation = 1                                    # Simulate with noise, and perturb a node.\n",
    "        x,t   = damped_coupled_harmonic_oscillators_with_noise(network, gain, evoked_sd*np.ones(16)*noise[j], perturbation)\n",
    "        amp   = np.abs(hilbert(x))                          # ... compute the amplitude,\n",
    "        i0    = np.where( (t>=0) & (t<=1.5) )               # ... after the perturbation,\n",
    "        A_yes_perturb[:,j,k]= np.mean(amp[:,i0[0]],1)       # ... and save it.\n",
    "\n",
    "        perturbation = 0                                    # Simulate with noise, with *no* perturbation.\n",
    "        x,t   = damped_coupled_harmonic_oscillators_with_noise(network, gain, evoked_sd*np.ones(16)*noise[j], perturbation)\n",
    "        amp   = np.abs(hilbert(x))                          # ... compute the amplitude,\n",
    "        i0    = np.where( (t>=0) & (t<=1.5) )               # ... after the perturbation,\n",
    "        A_no_perturb[:,j,k] = np.mean(amp[:,i0[0]],1)       # ... and save it.\n",
    "    \n",
    "    print(\"\\n\")\n",
    "\n",
    "res = {\"A_yes_perturb\":A_yes_perturb, \"A_no_pertrub\":A_no_perturb, \"f_k\":f_k, \"network\":network, \"gain\":gain, \"sd\":sd, \"noise\":noise}\n",
    "io.savemat(str('Figure-2E.mat'), res)"
   ]
  },
  {
   "cell_type": "markdown",
   "id": "a37d442a-d1f6-4143-8c82-e915b5b33d35",
   "metadata": {},
   "source": [
    "## Figure 2E (Part 2): Load evoked response versus noise, and plot it.\n",
    "\n",
    "This part is fast."
   ]
  },
  {
   "cell_type": "code",
   "execution_count": null,
   "id": "96b5fafb-b1ec-44d4-b666-6e48f9f6f293",
   "metadata": {},
   "outputs": [],
   "source": [
    "res = io.loadmat(\"Figure-2E.mat\")\n",
    "# Note: if you're running on Google Colab, then load the .mat file like this:\n",
    "# res = io.loadmat(\"/content/Golden-Framework/Figure-2E.mat\");\n",
    "f = plt.figure(figsize=(20, 3), dpi=80)\n",
    "plt.subplot(1,6,1); plot_response_with_noise(res, 2); plt.ylim([0,0.03])\n",
    "plt.subplot(1,6,2); plot_response_with_noise(res, 3); plt.ylim([0,0.03])\n",
    "plt.subplot(1,6,3); plot_response_with_noise(res, 4)\n",
    "plt.subplot(1,6,4); plot_response_with_noise(res, 5); plt.ylim([0,0.03])\n",
    "plt.subplot(1,6,5); plot_response_with_noise(res, 6); plt.ylim([0,0.03])\n",
    "plt.subplot(1,6,6); plot_response_with_noise(res, 7); plt.ylim([0,0.03]);\n",
    "#f.savefig(\"./PDFs/Figure-2D.pdf\", bbox_inches='tight')"
   ]
  }
 ],
 "metadata": {
  "kernelspec": {
   "display_name": "Python 3",
   "language": "python",
   "name": "python3"
  },
  "language_info": {
   "codemirror_mode": {
    "name": "ipython",
    "version": 3
   },
   "file_extension": ".py",
   "mimetype": "text/x-python",
   "name": "python",
   "nbconvert_exporter": "python",
   "pygments_lexer": "ipython3",
   "version": "3.8.8"
  }
 },
 "nbformat": 4,
 "nbformat_minor": 5
}
